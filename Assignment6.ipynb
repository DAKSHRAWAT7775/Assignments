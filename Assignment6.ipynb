{
 "cells": [
  {
   "cell_type": "code",
   "execution_count": 5,
   "id": "54913e0f-dfb0-453a-b51e-58e62bb94015",
   "metadata": {},
   "outputs": [
    {
     "name": "stdout",
     "output_type": "stream",
     "text": [
      "bark\n",
      "roar\n"
     ]
    }
   ],
   "source": [
    "'''1. Abstraction is the process by which data and functions are defined in such a way that only essential details\n",
    "can be seen and unnecessary implementations are hidden. \n",
    "Eg: '''\n",
    "import abc\n",
    "class animal:\n",
    "    @abc.abstractmethod\n",
    "    def sound(self):\n",
    "        pass\n",
    "class dog(animal):\n",
    "    def sound(self):\n",
    "        return \"bark\"\n",
    "class lion(animal):\n",
    "    def sound(self):\n",
    "        return \"roar\"\n",
    "d=dog()\n",
    "l=lion()\n",
    "print(d.sound())\n",
    "print(l.sound())"
   ]
  },
  {
   "cell_type": "code",
   "execution_count": 8,
   "id": "f7b82428-b493-4cb4-a93c-49cb39b6146e",
   "metadata": {},
   "outputs": [
    {
     "data": {
      "text/plain": [
       "'maruti'"
      ]
     },
     "execution_count": 8,
     "metadata": {},
     "output_type": "execute_result"
    }
   ],
   "source": [
    "'''2. Encapsulation decribes the idea of wrapping data and the methods that work on data within one unit and hiding \n",
    "the internal details to outside access whereas Abstraction is the process by which data and functions are defined in such a way\n",
    "that only essential details can be seen and unnecessary implementations are hidden.\n",
    "Eg:'''\n",
    "class car:\n",
    "    def __init__(self,year,model,speed):\n",
    "        self.__year=year\n",
    "        self.__model=model\n",
    "        self.__speed=0\n",
    "c=car(1989,\"maruti\",180)\n",
    "c._car__model"
   ]
  },
  {
   "cell_type": "code",
   "execution_count": null,
   "id": "539e259d-fbb8-48c5-8f2c-9dd7d71d8698",
   "metadata": {},
   "outputs": [],
   "source": [
    "'''3. 'abc' module stands for 'Abstract Base Classes' and it is used to implement absrtaction in Python by allowing \n",
    "you to define abstract methods and abstract classes.'''"
   ]
  },
  {
   "cell_type": "code",
   "execution_count": null,
   "id": "d906692d-9bb8-4ef6-96cf-25c12886c347",
   "metadata": {},
   "outputs": [],
   "source": [
    "'''4. Absrtaction can be achieved through the use of abstract classes and interfaces. An abstract class serves as a\n",
    "blueprint for another classes and cannot be instantiated itself and abstract class provides a common interface and\n",
    "defines the overall structure and behaviour that subclasses must adhere to.'''"
   ]
  },
  {
   "cell_type": "code",
   "execution_count": null,
   "id": "f4d55f26-eba2-455e-a9ba-674975968f79",
   "metadata": {},
   "outputs": [],
   "source": [
    "'''5. No, we cannot create an instance of an abstract class. Abstract classes in programming serves as a blueprints\n",
    "or templates for other classes to inherit from. They are designed to be incomplete and act as a foundation for \n",
    "subclasses. Since abstract classes are incomplete and do not provide a complete implementation for all their methods\n",
    "so it is not meaningful to create an instance of an abstract class.'''"
   ]
  }
 ],
 "metadata": {
  "kernelspec": {
   "display_name": "Python 3 (ipykernel)",
   "language": "python",
   "name": "python3"
  },
  "language_info": {
   "codemirror_mode": {
    "name": "ipython",
    "version": 3
   },
   "file_extension": ".py",
   "mimetype": "text/x-python",
   "name": "python",
   "nbconvert_exporter": "python",
   "pygments_lexer": "ipython3",
   "version": "3.10.8"
  }
 },
 "nbformat": 4,
 "nbformat_minor": 5
}
