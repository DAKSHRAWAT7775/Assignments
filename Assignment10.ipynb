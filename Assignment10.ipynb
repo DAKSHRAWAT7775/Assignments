{
 "cells": [
  {
   "cell_type": "markdown",
   "id": "52312258-0d21-4bcc-8938-7a34eb1c0fc2",
   "metadata": {},
   "source": [
    "1. Multithreading is a process of running multiple threads within a single process.\n",
    "        Multithreading is used to improve the performance of a program by using multiple CPUs or CPU cores.\n",
    "      threading module is used to handle threads in python.      "
   ]
  },
  {
   "cell_type": "markdown",
   "id": "2d4cc3da-7244-499e-8320-77487518537d",
   "metadata": {},
   "source": [
    "2. The threading module in Python is used to create and manage threads.\n",
    "(a)The activeCount() function returns the number of Thread objects currently alive.\n",
    "(b)The currentThread() function returns the current Thread object corresponding to the caller's thread of control.\n",
    "(c)The enumerate() function returns a list of all Thread objects currently alive."
   ]
  },
  {
   "cell_type": "markdown",
   "id": "1ee6c0bb-cd50-45d3-8c91-6c210b308ce5",
   "metadata": {},
   "source": [
    "3.\n",
    "(a)The run() method is a method that is meant to be overridden in a custom class that inherits from threading.Thread.\n",
    "(b)The start() method is used to initiate the execution of a thread.\n",
    "(c)The join() method is used to wait for a thread to complete its execution\n",
    "(d)The isAlive() method is used to check whether a thread is currently executing (alive) or has completed its execution."
   ]
  },
  {
   "cell_type": "code",
   "execution_count": 3,
   "id": "fa5ddfef-2ee0-4b3e-bdcc-f3daba7474cd",
   "metadata": {},
   "outputs": [
    {
     "name": "stdout",
     "output_type": "stream",
     "text": [
      "Thread One - List of Squares: [1, 4, 9, 16, 25]\n",
      "Thread Two - List of Cubes: [1, 8, 27, 64, 125]\n"
     ]
    }
   ],
   "source": [
    "#4\n",
    "import threading\n",
    "def squares():\n",
    "    squares = [i ** 2 for i in range(1, 6)]\n",
    "    print(\"Thread One - List of Squares:\", squares)\n",
    "def cubes():\n",
    "    cubes = [i ** 3 for i in range(1, 6)]\n",
    "    print(\"Thread Two - List of Cubes:\", cubes)\n",
    "thread_one = threading.Thread(target=squares)\n",
    "thread_two = threading.Thread(target=cubes)\n",
    "thread_one.start()\n",
    "thread_two.start()\n",
    "thread_one.join()\n",
    "thread_two.join()"
   ]
  },
  {
   "cell_type": "markdown",
   "id": "96808bac-2336-4c2a-9684-0f6ab5efb5ae",
   "metadata": {},
   "source": [
    "5. Advantage of Multithreading is that it provides parallelism and responsiveness.\n",
    "Disadvantage of Multithreading is that it introduces complexity, debugging challenges, and potential race conditions."
   ]
  },
  {
   "cell_type": "markdown",
   "id": "f9c6914a-af08-461e-bd56-2d3883651bb1",
   "metadata": {},
   "source": [
    "6. In multithreading, deadlocks occur when two or more threads are blocked, each holding a resource and waiting for another resource acquired by another thread, resulting in a cyclic dependency.\n",
    "        In multithreading, a race condition occurs when the final outcome of a program depends on the unpredictable timing and interleaving of threads accessing shared resources concurrently."
   ]
  }
 ],
 "metadata": {
  "kernelspec": {
   "display_name": "Python 3 (ipykernel)",
   "language": "python",
   "name": "python3"
  },
  "language_info": {
   "codemirror_mode": {
    "name": "ipython",
    "version": 3
   },
   "file_extension": ".py",
   "mimetype": "text/x-python",
   "name": "python",
   "nbconvert_exporter": "python",
   "pygments_lexer": "ipython3",
   "version": "3.10.8"
  }
 },
 "nbformat": 4,
 "nbformat_minor": 5
}
