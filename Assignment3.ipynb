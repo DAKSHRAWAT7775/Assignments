{
 "cells": [
  {
   "cell_type": "code",
   "execution_count": 1,
   "id": "7cfb0e98-95c7-4673-9fd6-b6799222f387",
   "metadata": {},
   "outputs": [
    {
     "data": {
      "text/plain": [
       "[1, 3, 5, 7, 9, 11, 13, 15, 17, 19, 21, 23]"
      ]
     },
     "execution_count": 1,
     "metadata": {},
     "output_type": "execute_result"
    }
   ],
   "source": [
    "#1. \"def\" keyword is used to create a function. \n",
    "def odd():\n",
    "    l=[]\n",
    "    for i in range(1,25):\n",
    "        if i%2!=0:\n",
    "            l.append(i)\n",
    "    return l\n",
    "odd()"
   ]
  },
  {
   "cell_type": "code",
   "execution_count": 6,
   "id": "ce164a24-6f26-4986-861b-e86c071f1a95",
   "metadata": {},
   "outputs": [
    {
     "data": {
      "text/plain": [
       "{'a': 6, 'b': 7}"
      ]
     },
     "execution_count": 6,
     "metadata": {},
     "output_type": "execute_result"
    }
   ],
   "source": [
    "'''2. The *args parameter allows a function to accept a variable number of positional arguments \n",
    "whereas **kwargs parameter allows a function to accept a variable number of keyword arguments.'''\n",
    "def f1(*args):\n",
    "    return args\n",
    "def f2(**kwargs):\n",
    "    return kwargs\n",
    "f1(1,2,3,4,\"sudha\")\n",
    "f2(a=6,b=7)"
   ]
  },
  {
   "cell_type": "code",
   "execution_count": 7,
   "id": "da6e3e94-eb46-4198-afa0-42d8abe18d8b",
   "metadata": {},
   "outputs": [
    {
     "name": "stdout",
     "output_type": "stream",
     "text": [
      "2\n",
      "4\n",
      "6\n",
      "8\n",
      "10\n"
     ]
    }
   ],
   "source": [
    "'''3. Iterator is an object that allows us to iterate over a collection of elements or generate a sequence of values. iter() function is used to\n",
    "initialise the iterator object and next() method is used for iteration.'''\n",
    "l=[2,4,6,8,10,12,14,16,18,20]\n",
    "l1=iter(l)\n",
    "for i in range(5):\n",
    "    print(next(l1))"
   ]
  },
  {
   "cell_type": "code",
   "execution_count": 10,
   "id": "ff9720fd-8b55-4c12-98ae-678120881116",
   "metadata": {},
   "outputs": [
    {
     "name": "stdin",
     "output_type": "stream",
     "text": [
      " 6\n"
     ]
    },
    {
     "name": "stdout",
     "output_type": "stream",
     "text": [
      "0\n",
      "2\n",
      "4\n"
     ]
    }
   ],
   "source": [
    "#4. A generator function is a special type of function that generates a sequence of values using yield keyword. Yield keyword \n",
    "#is used within a generator function to specify the values to be generated. Eg:\n",
    "n=int(input())\n",
    "def f1(n):\n",
    "    for i in range(n):\n",
    "        if i%2==0:\n",
    "            yield i\n",
    "for j in f1(n):\n",
    "    print(j)"
   ]
  },
  {
   "cell_type": "code",
   "execution_count": 15,
   "id": "bc34c7bc-71c5-4507-b25d-1657d590a6b1",
   "metadata": {},
   "outputs": [
    {
     "name": "stdout",
     "output_type": "stream",
     "text": [
      "2\n",
      "3\n",
      "5\n",
      "7\n",
      "11\n",
      "13\n",
      "17\n",
      "19\n",
      "23\n",
      "29\n",
      "31\n",
      "37\n",
      "41\n",
      "43\n",
      "47\n",
      "53\n",
      "59\n",
      "61\n",
      "67\n",
      "71\n"
     ]
    }
   ],
   "source": [
    "5.\n",
    "def f2():\n",
    "    l=[]\n",
    "    for n in range(2,1000):\n",
    "        ispr=True\n",
    "        for i in l:\n",
    "            if (n%i==0):\n",
    "                ispr=False\n",
    "                break\n",
    "        if ispr:\n",
    "            l.append(n)\n",
    "            yield n\n",
    "li=f2()\n",
    "for j in range(20):\n",
    "    print(next(li))"
   ]
  },
  {
   "cell_type": "code",
   "execution_count": null,
   "id": "6596c068-1b9e-4355-8af8-23c67821121a",
   "metadata": {},
   "outputs": [],
   "source": [
    "#6.\n",
    "a=0\n",
    "b=1\n",
    "count=0\n",
    "while count<10:\n",
    "    print(a)\n",
    "    c=a+b\n",
    "    a=b\n",
    "    b=c\n",
    "    count+=1"
   ]
  },
  {
   "cell_type": "code",
   "execution_count": 29,
   "id": "f3d62c5c-0f5b-441e-b6b2-f6f076c411c7",
   "metadata": {},
   "outputs": [
    {
     "name": "stdout",
     "output_type": "stream",
     "text": [
      "['p', 'w', 's', 'k', 'i', 'l', 'l', 's']\n"
     ]
    }
   ],
   "source": [
    "#7.\n",
    "s='pwskills'\n",
    "l=[]\n",
    "s1=iter(s)\n",
    "for i in range(len(s)):\n",
    "    l.append(next(s1))\n",
    "print(l)"
   ]
  },
  {
   "cell_type": "code",
   "execution_count": 33,
   "id": "aa4c7a27-544c-4fdb-be4a-872e6586bdc7",
   "metadata": {},
   "outputs": [
    {
     "name": "stdin",
     "output_type": "stream",
     "text": [
      " 121\n"
     ]
    },
    {
     "name": "stdout",
     "output_type": "stream",
     "text": [
      "121 Palindrome\n"
     ]
    }
   ],
   "source": [
    "#8.\n",
    "a=int(input())\n",
    "n=a\n",
    "r=0\n",
    "while n>0:\n",
    "    d=n%10\n",
    "    r=(r*10)+d\n",
    "    n=n//10\n",
    "if a==r:\n",
    "    print(r,\"Palindrome\")\n",
    "else:\n",
    "    print(r,\"Not Palindrome\")"
   ]
  },
  {
   "cell_type": "code",
   "execution_count": 2,
   "id": "0b9db381-291d-4680-8c07-fe4bbbb898e5",
   "metadata": {},
   "outputs": [
    {
     "name": "stdout",
     "output_type": "stream",
     "text": [
      "[1, 3, 5, 7, 9, 11, 13, 15, 17, 19, 21, 23, 25, 27, 29, 31, 33, 35, 37, 39, 41, 43, 45, 47, 49, 51, 53, 55, 57, 59, 61, 63, 65, 67, 69, 71, 73, 75, 77, 79, 81, 83, 85, 87, 89, 91, 93, 95, 97, 99]\n"
     ]
    }
   ],
   "source": [
    "#9.\n",
    "l=[x for x in range(1,101) if x%2!=0]\n",
    "print(l)"
   ]
  },
  {
   "cell_type": "code",
   "execution_count": null,
   "id": "0bff36e5-092e-44f4-8877-173cfe8a1227",
   "metadata": {},
   "outputs": [],
   "source": []
  }
 ],
 "metadata": {
  "kernelspec": {
   "display_name": "Python 3 (ipykernel)",
   "language": "python",
   "name": "python3"
  },
  "language_info": {
   "codemirror_mode": {
    "name": "ipython",
    "version": 3
   },
   "file_extension": ".py",
   "mimetype": "text/x-python",
   "name": "python",
   "nbconvert_exporter": "python",
   "pygments_lexer": "ipython3",
   "version": "3.10.8"
  }
 },
 "nbformat": 4,
 "nbformat_minor": 5
}
