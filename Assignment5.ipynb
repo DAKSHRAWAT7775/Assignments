{
 "cells": [
  {
   "cell_type": "code",
   "execution_count": 1,
   "id": "0a44dff9-d6a8-49b2-887f-5b4cb157c506",
   "metadata": {},
   "outputs": [
    {
     "name": "stdout",
     "output_type": "stream",
     "text": [
      "12\n",
      "4\n",
      "48\n",
      "32\n"
     ]
    }
   ],
   "source": [
    "'''1. A class is a blueprint that defines the properties and behaviour(method) of a particular type of object and a \n",
    " object is an instance of a class which has its unique state(data) and behaviour(method) based on the class it belongs to.\n",
    " Eg: '''\n",
    "class rectangle:\n",
    "    def __init__(self,length,breadth):\n",
    "        self.length=length\n",
    "        self.breadth=breadth\n",
    "    def area(self):\n",
    "        return (self.length*self.breadth)\n",
    "    def perimeter(self):\n",
    "        return (2*(self.length+self.breadth))\n",
    "c1=rectangle(12,4)\n",
    "print(c1.length)\n",
    "print(c1.breadth)\n",
    "print(c1.area())\n",
    "print(c1.perimeter())"
   ]
  },
  {
   "cell_type": "code",
   "execution_count": null,
   "id": "2ec893b8-36d0-43fb-9ca3-ebdff975bda3",
   "metadata": {},
   "outputs": [],
   "source": [
    "#2. The four pillars of OOPs are -- Inheritance, Polymorphism, Abstraction and Encapsulation"
   ]
  },
  {
   "cell_type": "code",
   "execution_count": 2,
   "id": "3065b4df-935e-4165-acb3-b11d028b520b",
   "metadata": {},
   "outputs": [
    {
     "name": "stdout",
     "output_type": "stream",
     "text": [
      "Apple\n"
     ]
    }
   ],
   "source": [
    "#3. The __init__ function is known as constructor method which is used to initialize the properties of the object with the provided values.\n",
    "#Eg:\n",
    "class Fruits:\n",
    "    def __init__(self,a):\n",
    "        self.a=a\n",
    "    def ret1(self):\n",
    "        return self.a\n",
    "f1=Fruits(\"Apple\")\n",
    "print(f1.ret1())"
   ]
  },
  {
   "cell_type": "code",
   "execution_count": null,
   "id": "ea770206-ddc6-4bec-903c-a5f2aac6c1b3",
   "metadata": {},
   "outputs": [],
   "source": [
    "#4. \"self\" parameter is used to refer to the instance of a class within its methods. "
   ]
  },
  {
   "cell_type": "code",
   "execution_count": 2,
   "id": "182054bd-3757-4479-b8ef-6e612e24e1b3",
   "metadata": {},
   "outputs": [
    {
     "name": "stdout",
     "output_type": "stream",
     "text": [
      "function of parent class\n",
      "function of child class\n"
     ]
    }
   ],
   "source": [
    "'''5. Inheritance is a fundamental concept in OOPs that allows the child class to inherit the properties and methods of the \n",
    "parent class. There are five types of inheritance in OOPs:\n",
    "(a) Single Inheritance\n",
    "(b) Multiple Inheritance\n",
    "(c) Multilevel Inheritance\n",
    "(d) Heirarchical Inheritance\n",
    "(e) Hybrid Inheritance\n",
    "Eg: '''\n",
    "class parent:\n",
    "    def f1(self):\n",
    "        print(\"function of parent class\")\n",
    "class child(parent):\n",
    "    def f2(self):\n",
    "        print(\"function of child class\")\n",
    "ob=child()\n",
    "ob.f1()\n",
    "ob.f2()"
   ]
  }
 ],
 "metadata": {
  "kernelspec": {
   "display_name": "Python 3 (ipykernel)",
   "language": "python",
   "name": "python3"
  },
  "language_info": {
   "codemirror_mode": {
    "name": "ipython",
    "version": 3
   },
   "file_extension": ".py",
   "mimetype": "text/x-python",
   "name": "python",
   "nbconvert_exporter": "python",
   "pygments_lexer": "ipython3",
   "version": "3.10.8"
  }
 },
 "nbformat": 4,
 "nbformat_minor": 5
}
