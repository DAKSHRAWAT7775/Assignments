{
 "cells": [
  {
   "cell_type": "markdown",
   "id": "94933c85-10c7-40e9-ad3e-cf3eb9af2f84",
   "metadata": {},
   "source": [
    "1. Exception is an event that occurs during the execution of a program that disrupts the normal flow of instructions. Exceptions are runtime error means wich are handled during execution of program whereas Syntax errors are compile time errors which are handled before the execution of program."
   ]
  },
  {
   "cell_type": "code",
   "execution_count": 1,
   "id": "7368b68d-6619-4f65-b7ff-12b82bc8e573",
   "metadata": {},
   "outputs": [
    {
     "ename": "ZeroDivisionError",
     "evalue": "division by zero",
     "output_type": "error",
     "traceback": [
      "\u001b[0;31m---------------------------------------------------------------------------\u001b[0m",
      "\u001b[0;31mZeroDivisionError\u001b[0m                         Traceback (most recent call last)",
      "Cell \u001b[0;32mIn[1], line 4\u001b[0m\n\u001b[1;32m      2\u001b[0m \u001b[38;5;28;01mdef\u001b[39;00m \u001b[38;5;21mdivide\u001b[39m(a,b):\n\u001b[1;32m      3\u001b[0m     \u001b[38;5;28;01mreturn\u001b[39;00m a\u001b[38;5;241m/\u001b[39mb\n\u001b[0;32m----> 4\u001b[0m \u001b[43mdivide\u001b[49m\u001b[43m(\u001b[49m\u001b[38;5;241;43m10\u001b[39;49m\u001b[43m,\u001b[49m\u001b[38;5;241;43m0\u001b[39;49m\u001b[43m)\u001b[49m\n",
      "Cell \u001b[0;32mIn[1], line 3\u001b[0m, in \u001b[0;36mdivide\u001b[0;34m(a, b)\u001b[0m\n\u001b[1;32m      2\u001b[0m \u001b[38;5;28;01mdef\u001b[39;00m \u001b[38;5;21mdivide\u001b[39m(a,b):\n\u001b[0;32m----> 3\u001b[0m     \u001b[38;5;28;01mreturn\u001b[39;00m \u001b[43ma\u001b[49m\u001b[38;5;241;43m/\u001b[39;49m\u001b[43mb\u001b[49m\n",
      "\u001b[0;31mZeroDivisionError\u001b[0m: division by zero"
     ]
    }
   ],
   "source": [
    "#2. When an exception is not handled , it leads to an error traceback and program execution is terminated. \n",
    "def divide(a,b):\n",
    "    return a/b\n",
    "divide(10,0)"
   ]
  },
  {
   "cell_type": "code",
   "execution_count": 5,
   "id": "6cc68da2-6876-46d6-b9d6-2df218cff055",
   "metadata": {},
   "outputs": [
    {
     "name": "stdout",
     "output_type": "stream",
     "text": [
      "2.0\n",
      "Executed\n",
      "zero division error\n",
      "Executed\n"
     ]
    }
   ],
   "source": [
    "#3. try,except,else and finally are used to catch and handle exceptions.\n",
    "def divide(a,b):\n",
    "    try:\n",
    "        c=a/b\n",
    "    except ZeroDivisionError:\n",
    "        print(\"zero division error\")\n",
    "    else:\n",
    "        print(c)\n",
    "    finally:\n",
    "        print(\"Executed\")\n",
    "divide(4,2)\n",
    "divide(10,0)"
   ]
  },
  {
   "cell_type": "code",
   "execution_count": 3,
   "id": "0d7ca3bd-e2ff-47c8-be62-ec44ebcc5a22",
   "metadata": {},
   "outputs": [
    {
     "name": "stdout",
     "output_type": "stream",
     "text": [
      "2.0\n",
      "Executed\n",
      "Eligible\n"
     ]
    }
   ],
   "source": [
    "#4.(a) \n",
    "def divide(a,b):\n",
    "    try:\n",
    "        c=a/b\n",
    "    except Exception as e:\n",
    "        print(e)\n",
    "    else:\n",
    "        print(c)\n",
    "divide(4,2)\n",
    "#(b)\n",
    "def divide(a,b):\n",
    "    try:\n",
    "        c=a/b\n",
    "    finally:\n",
    "        print(\"Executed\")\n",
    "divide(6,3)\n",
    "#(c)\n",
    "def validage(age):\n",
    "    if age<18:\n",
    "        raise ValueError(\"Not eligible\")\n",
    "    else:\n",
    "        raise ValueError(\"Eligible\")\n",
    "try:\n",
    "    validage(19)\n",
    "except ValueError as e:\n",
    "    print(e)"
   ]
  },
  {
   "cell_type": "code",
   "execution_count": 4,
   "id": "1b70c75f-ebec-4962-9dce-28d95e4fe1e6",
   "metadata": {},
   "outputs": [
    {
     "name": "stdout",
     "output_type": "stream",
     "text": [
      "Eligible\n"
     ]
    }
   ],
   "source": [
    "'''5. Custom Exceptions in python are user-defined exceptions that extend the functionality of the built-in exception classes.\n",
    "                We need custom exception for clearity and readability of code.'''\n",
    "def validage(age):\n",
    "    if age<18:\n",
    "        raise ValueError(\"Not eligible\")\n",
    "    else:\n",
    "        raise ValueError(\"Eligible\")\n",
    "try:\n",
    "    validage(19)\n",
    "except ValueError as e:\n",
    "    print(e)"
   ]
  },
  {
   "cell_type": "code",
   "execution_count": 10,
   "id": "fae4a6e7-694b-4dac-b91a-f90c77f0be2f",
   "metadata": {},
   "outputs": [
    {
     "name": "stdin",
     "output_type": "stream",
     "text": [
      "Enter age 19\n"
     ]
    },
    {
     "name": "stdout",
     "output_type": "stream",
     "text": [
      "Eligible\n"
     ]
    }
   ],
   "source": [
    "#6.\n",
    "class validateage(Exception):\n",
    "    def __init__(self,msg):\n",
    "        self.msg=msg\n",
    "def validage(age):\n",
    "    if age<18:\n",
    "        raise validateage(\"Not eligible\")\n",
    "    else:\n",
    "        raise validateage(\"Eligible\")\n",
    "try:\n",
    "    age=int(input(\"Enter age\"))\n",
    "    validage(age)\n",
    "except validateage as e:\n",
    "    print(e)"
   ]
  }
 ],
 "metadata": {
  "kernelspec": {
   "display_name": "Python 3 (ipykernel)",
   "language": "python",
   "name": "python3"
  },
  "language_info": {
   "codemirror_mode": {
    "name": "ipython",
    "version": 3
   },
   "file_extension": ".py",
   "mimetype": "text/x-python",
   "name": "python",
   "nbconvert_exporter": "python",
   "pygments_lexer": "ipython3",
   "version": "3.10.8"
  }
 },
 "nbformat": 4,
 "nbformat_minor": 5
}
