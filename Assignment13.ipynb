{
 "cells": [
  {
   "cell_type": "markdown",
   "id": "72f7a2e9-0a28-4479-a601-39b358041271",
   "metadata": {},
   "source": [
    "1. MongoDB is a popular NoSQL database management system that stores data in JSON like format known as BSON(Binary JSON).\n",
    "                Non-relational database such as MongoDB is used to handle large volume of unstructured data more efficiently.\n",
    "            MongoDB is prefered over SQL database when there is large amount of unstructured data and the data structure is flexible.     "
   ]
  },
  {
   "cell_type": "markdown",
   "id": "362e2f0c-7c57-475a-871c-28a0d8f229d0",
   "metadata": {},
   "source": [
    "2. The feautres of MongoDB are as follows:\n",
    "(a)Document-Oriented: MongoDB stores data in JSON-like documents called BSON\n",
    "(b)Aggregation MongoDB provides aggregation framework for data processing and analytics.\n",
    "(c)High Performance: MongoDB offers high performance like in-memory computing\n",
    "(d)Schema-less Design:MongoDB allows for flexible data modeling without a predefined schema. "
   ]
  },
  {
   "cell_type": "markdown",
   "id": "a49fcedf-2875-4468-a42b-39ce1d039e7e",
   "metadata": {},
   "source": [
    "3. \n",
    "from pymongo import MongoClient\n",
    "client = MongoClient('mongodb://localhost:27017/')\n",
    "my_db = client['my_database']\n",
    "my_collection = my_db['my_collection']"
   ]
  },
  {
   "cell_type": "markdown",
   "id": "5237f7c4-ca6e-47e1-8d98-b29e84db1f10",
   "metadata": {},
   "source": [
    "4. \n",
    "my_collection.insert_one({\"name\": \"John\", \"age\": 30})\n",
    "data = [\n",
    "    {\"name\": \"Alice\", \"age\": 25},\n",
    "    {\"name\": \"Bob\", \"age\": 35}\n",
    "]\n",
    "my_collection.insert_many(data)\n",
    "print(\"Inserted Record:\")\n",
    "print(my_collection.find_one())\n",
    "print(\"Inserted Records:\")\n",
    "for record in my_collection.find():\n",
    "    print(record)"
   ]
  },
  {
   "cell_type": "markdown",
   "id": "c9a7a905-8866-48c1-913f-b13a435579ed",
   "metadata": {},
   "source": [
    "5. Find() method is used to query the documents in the collection. For example,\n",
    "for record in my_collection.find({\"age\": {\"$gt\": 25}}):\n",
    "    print(record)\n"
   ]
  },
  {
   "cell_type": "markdown",
   "id": "15350715-062b-4a0b-8d40-0c57a6a16e0a",
   "metadata": {},
   "source": [
    "6. sort() method is used for sort the documents in a collection based on a particular field. For example,\n",
    "for record in my_collection.find().sort(\"age\", 1):\n",
    "    print(record)"
   ]
  },
  {
   "cell_type": "markdown",
   "id": "543f2434-1c46-409a-a15b-08edfaf574b4",
   "metadata": {},
   "source": [
    "7. (a)delete_one() is used to delete a single document that matches the specific filter.\n",
    "(b)delete_many() is used to delete multiple documents that mathches a specific filter.\n",
    "(c)drop() is used to delte the entire collection"
   ]
  }
 ],
 "metadata": {
  "kernelspec": {
   "display_name": "Python 3 (ipykernel)",
   "language": "python",
   "name": "python3"
  },
  "language_info": {
   "codemirror_mode": {
    "name": "ipython",
    "version": 3
   },
   "file_extension": ".py",
   "mimetype": "text/x-python",
   "name": "python",
   "nbconvert_exporter": "python",
   "pygments_lexer": "ipython3",
   "version": "3.10.8"
  }
 },
 "nbformat": 4,
 "nbformat_minor": 5
}
