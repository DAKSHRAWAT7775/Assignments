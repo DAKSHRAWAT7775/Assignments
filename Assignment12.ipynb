{
 "cells": [
  {
   "cell_type": "markdown",
   "id": "dcb49d11-4d72-40ce-b788-6899b3094a86",
   "metadata": {},
   "source": [
    "1. Database is an organised collection of data which is stored in a particular system. SQL databases are relational while NoSQL databases are non-relational. SQL databases have pre-defined schema while NoSQL databases have dynamic schema. Sql databases are vertically scalable while NoSQL databases are horizontally scalable.SQL databases are better for multi-row transactions while NoSQL databases are better for unstructured data."
   ]
  },
  {
   "cell_type": "markdown",
   "id": "09eff834-7279-4beb-8b10-0cd0c02051a3",
   "metadata": {},
   "source": [
    "2. DDL stands for Data Definition Language which is used for defining the strucure of the database.\n",
    "Create statement is used for creation of an object. Eg- create database emp;\n",
    "Drop statement is used for deletion of an object. Eg - drop table student;\n",
    "Alter statement is used for modifying the structre of an object. Eg - alter table emp add column mobile varchar(100);\n",
    "Truncate statement is used for deleting all rows but retaining the structure of that object. Eg - truncate table users;"
   ]
  },
  {
   "cell_type": "markdown",
   "id": "2c86cc61-4337-4827-8366-5f45743965f8",
   "metadata": {},
   "source": [
    "3. DML stands for Data Manipulation Language which is used for manipulating the data in database.\n",
    "Insert statement is used to add new records(rows) in the database. Eg - insert into emp values(eid integer, ename varchar(20));\n",
    "Update statement is used to modify existing records in the database. Eg - update emp set eid=1 where ename=\"abc\";\n",
    "Delete statement is used to remove the records from the database. Eg - delete from emp where eid=1;"
   ]
  },
  {
   "cell_type": "markdown",
   "id": "05f0a72b-195b-4e6a-91eb-bf5731cfc46a",
   "metadata": {},
   "source": [
    "4. DQL stands for Data Query Language which is used for retrieving the data from database.\n",
    "Select statement is used to retrieve the data from the one or more tables in a database. Eg - select * from emp;"
   ]
  },
  {
   "cell_type": "markdown",
   "id": "70838044-688e-4c0c-b2ae-f7c01c1bba01",
   "metadata": {},
   "source": [
    "5. Primary key is a key that uniquely identify each records in the table. We cannot insert null and duplicate values in this key. There is only one primary key in the table.\n",
    "Foreign key is a key that is used to establish link between two tables. Foreign key is also known as primary key of another table."
   ]
  },
  {
   "cell_type": "markdown",
   "id": "1dbd24b8-85eb-49a7-9563-9e1d065151e0",
   "metadata": {},
   "source": [
    "6.\n",
    "import mysql.connector\n",
    "mydb=mysql.connector.connect(host=\"localhost\",user=\"abc\",password=\"123\")\n",
    "print(mydb)\n",
    "The cursor method is used to create a cursor object in database which allows us to interact with the database by executing sql queries and execute method is used for executing sql queries.\n",
    "mycursor=mydb.cursor()\n",
    "mycursor.execute(\"show databases\")"
   ]
  },
  {
   "cell_type": "markdown",
   "id": "d542ec2a-3ae2-41cd-9703-b79cf6099332",
   "metadata": {},
   "source": [
    "7.(a)From\n",
    "(b)Join\n",
    "(c)Where\n",
    "(d)Group By\n",
    "(e)Having\n",
    "(f)Select\n",
    "(g)Distinct\n",
    "(h)Order by\n",
    "(i)Limit"
   ]
  }
 ],
 "metadata": {
  "kernelspec": {
   "display_name": "Python 3 (ipykernel)",
   "language": "python",
   "name": "python3"
  },
  "language_info": {
   "codemirror_mode": {
    "name": "ipython",
    "version": 3
   },
   "file_extension": ".py",
   "mimetype": "text/x-python",
   "name": "python",
   "nbconvert_exporter": "python",
   "pygments_lexer": "ipython3",
   "version": "3.10.8"
  }
 },
 "nbformat": 4,
 "nbformat_minor": 5
}
