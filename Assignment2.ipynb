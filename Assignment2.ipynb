{
 "cells": [
  {
   "cell_type": "markdown",
   "id": "60a4e639-1343-4bce-b35a-aa9af55a40a8",
   "metadata": {},
   "source": [
    "1. There are two different types of comments in Python:\n",
    "(a)Single-line comments: We use hash symbol(#) to add a single line comment. Eg:\n",
    "# Hash Single-line comment\n",
    "(b)Multi-line comments: We use triple quotes to create a multi-line comment. Eg:\n",
    "''' this \n",
    "is \n",
    "a \n",
    "multi-line\n",
    "comment'''"
   ]
  },
  {
   "cell_type": "markdown",
   "id": "b0c45a54-2ba7-4e78-86dc-2e4c6e09333c",
   "metadata": {},
   "source": [
    "2. Varaibles is used to store the data values. It is a name assigned to memory location where a value is stored.\n",
    "We use assignment operator(=) to declare and assign a name to the variable. For eg:\n",
    "name=\"ram\""
   ]
  },
  {
   "cell_type": "markdown",
   "id": "614427b8-c1cc-4901-b939-286c0b0bfa98",
   "metadata": {},
   "source": [
    "3. We use type conversion functions to convert from one datatype to another in Python. Eg:\n",
    " a= int(input())"
   ]
  },
  {
   "cell_type": "markdown",
   "id": "ae9bcb57-5fec-47ad-8a22-3c25463cfb64",
   "metadata": {},
   "source": [
    "4.(a) Open a text editor or an IDE in python to write your python script.\n",
    "(b) Write your Python code in text editor and save it with file extension \".py\".\n",
    "(c) Now you can save and run your program."
   ]
  },
  {
   "cell_type": "code",
   "execution_count": 7,
   "id": "eb49c681-b636-4642-bfd6-75fd7be9fdac",
   "metadata": {},
   "outputs": [
    {
     "data": {
      "text/plain": [
       "[2, 3]"
      ]
     },
     "execution_count": 7,
     "metadata": {},
     "output_type": "execute_result"
    }
   ],
   "source": [
    "#5. \n",
    "my_list=[1,2,3,4,5]\n",
    "my_list[1:3]"
   ]
  },
  {
   "cell_type": "markdown",
   "id": "740aa920-bbd3-4692-8fcb-59b258a54cef",
   "metadata": {},
   "source": [
    "6. Complex number is the number that comprises both real part and imaginary part. In python it is representated as:\n",
    "5+3j or a=complex(2,5)"
   ]
  },
  {
   "cell_type": "code",
   "execution_count": null,
   "id": "ddfd7791-57a1-46c5-968c-e8e41c622e60",
   "metadata": {},
   "outputs": [],
   "source": [
    "#7.\n",
    "age=25"
   ]
  },
  {
   "cell_type": "code",
   "execution_count": 8,
   "id": "9ad7913e-dfbb-4c72-b866-b21c0786cecd",
   "metadata": {},
   "outputs": [
    {
     "data": {
      "text/plain": [
       "float"
      ]
     },
     "execution_count": 8,
     "metadata": {},
     "output_type": "execute_result"
    }
   ],
   "source": [
    "#8.\n",
    "price=9.99\n",
    "type(price)"
   ]
  },
  {
   "cell_type": "code",
   "execution_count": 9,
   "id": "61092604-654a-439d-bcb4-d6267f6e72e4",
   "metadata": {},
   "outputs": [
    {
     "name": "stdout",
     "output_type": "stream",
     "text": [
      "Daksh Rawat\n"
     ]
    }
   ],
   "source": [
    "#9.\n",
    "name=\"Daksh Rawat\"\n",
    "print(name)"
   ]
  },
  {
   "cell_type": "code",
   "execution_count": 10,
   "id": "36bb1ecf-ac3f-486f-920a-2f1ce46e17bb",
   "metadata": {},
   "outputs": [
    {
     "data": {
      "text/plain": [
       "'World'"
      ]
     },
     "execution_count": 10,
     "metadata": {},
     "output_type": "execute_result"
    }
   ],
   "source": [
    "#10.\n",
    "string=\"Hello, World!\"\n",
    "string[7:12]"
   ]
  },
  {
   "cell_type": "code",
   "execution_count": null,
   "id": "313823fc-9ce9-4318-b1c7-58cb829350f2",
   "metadata": {},
   "outputs": [],
   "source": [
    "#11.\n",
    "is_student=True"
   ]
  }
 ],
 "metadata": {
  "kernelspec": {
   "display_name": "Python 3 (ipykernel)",
   "language": "python",
   "name": "python3"
  },
  "language_info": {
   "codemirror_mode": {
    "name": "ipython",
    "version": 3
   },
   "file_extension": ".py",
   "mimetype": "text/x-python",
   "name": "python",
   "nbconvert_exporter": "python",
   "pygments_lexer": "ipython3",
   "version": "3.10.8"
  }
 },
 "nbformat": 4,
 "nbformat_minor": 5
}
