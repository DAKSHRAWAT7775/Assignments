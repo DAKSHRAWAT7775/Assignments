{
 "cells": [
  {
   "cell_type": "markdown",
   "id": "9ca3359d-fd04-4c7e-8029-d20a47d06fc2",
   "metadata": {},
   "source": [
    "1.(i) a=\"sudha\"\n",
    "(ii) b=[1,2,3,4]\n",
    "(iii) c=12.38\n",
    "(iv) d=(\"hi\",\"hello\",\"hey\")"
   ]
  },
  {
   "cell_type": "markdown",
   "id": "5b9f8ac5-6073-4922-8811-fda64fe04678",
   "metadata": {},
   "source": [
    "2.(i) String\n",
    "(ii) String\n",
    "(iii) List\n",
    "(iv) Integer"
   ]
  },
  {
   "cell_type": "markdown",
   "id": "d2cbcc21-405b-431b-8775-3b3534812a59",
   "metadata": {},
   "source": [
    "#3.(i) / is a Division operator which is used to perform division and return the quotient. Eg: \n",
    "5/3 \n",
    "#(ii) % is a Modulus operator which is used to obtain remainder. Eg:\n",
    "5%3\n",
    "#(iii) // is a Floor Division operator which is used to perform division and return the quotient after rounding off it to the nearest whole number. Eg:\n",
    "5//3\n",
    "#(iv) ** is a Power(Exponent) operator which is used to raise a number to the power of another number. Eg:\n",
    "5**3"
   ]
  },
  {
   "cell_type": "code",
   "execution_count": 5,
   "id": "271109b0-6110-42ec-ac1b-26cc18163196",
   "metadata": {},
   "outputs": [
    {
     "name": "stdout",
     "output_type": "stream",
     "text": [
      "2\n",
      "<class 'int'>\n",
      "4\n",
      "<class 'int'>\n",
      "6\n",
      "<class 'int'>\n",
      "8\n",
      "<class 'int'>\n",
      "sudha\n",
      "<class 'str'>\n",
      "sir\n",
      "<class 'str'>\n",
      "(5+4j)\n",
      "<class 'complex'>\n",
      "hello\n",
      "<class 'str'>\n",
      "True\n",
      "<class 'bool'>\n",
      "3\n",
      "<class 'int'>\n"
     ]
    }
   ],
   "source": [
    "#4.\n",
    "l=[2,4,6,8,\"sudha\",\"sir\",5+4j,\"hello\",True,3]\n",
    "for i in l:\n",
    "    print(i)\n",
    "    print(type(i))\n"
   ]
  },
  {
   "cell_type": "code",
   "execution_count": 8,
   "id": "9b6ddedf-4401-4a4b-a6ad-9bd5819e1c87",
   "metadata": {},
   "outputs": [
    {
     "name": "stdin",
     "output_type": "stream",
     "text": [
      " 36\n",
      " 4\n"
     ]
    },
    {
     "name": "stdout",
     "output_type": "stream",
     "text": [
      "No of times the number is divided is 1\n"
     ]
    }
   ],
   "source": [
    "#5.\n",
    "a=int(input())\n",
    "b=int(input())\n",
    "con=0\n",
    "while (a%b==0):\n",
    "    a=a/b\n",
    "    con+=1\n",
    "print(\"No of times the number is divided is\",con) "
   ]
  },
  {
   "cell_type": "code",
   "execution_count": 9,
   "id": "74e2b657-d240-490a-a04e-2b5f4ea8483c",
   "metadata": {},
   "outputs": [
    {
     "name": "stdout",
     "output_type": "stream",
     "text": [
      "Not Divisible by 3\n",
      "Not Divisible by 3\n",
      "Divisible by 3\n",
      "Not Divisible by 3\n",
      "Not Divisible by 3\n",
      "Divisible by 3\n",
      "Not Divisible by 3\n",
      "Not Divisible by 3\n",
      "Divisible by 3\n",
      "Not Divisible by 3\n",
      "Not Divisible by 3\n",
      "Divisible by 3\n",
      "Not Divisible by 3\n",
      "Not Divisible by 3\n",
      "Not Divisible by 3\n",
      "Divisible by 3\n",
      "Not Divisible by 3\n",
      "Not Divisible by 3\n",
      "Divisible by 3\n",
      "Not Divisible by 3\n",
      "Not Divisible by 3\n",
      "Divisible by 3\n",
      "Not Divisible by 3\n",
      "Not Divisible by 3\n",
      "Divisible by 3\n",
      "Not Divisible by 3\n"
     ]
    }
   ],
   "source": [
    "#6.\n",
    "l=[1,2,3,4,5,6,7,8,9,10,11,12,13,14,14,15,16,17,18,19,20,21,22,23,24,25]\n",
    "for i in l:\n",
    "    if i%3==0:\n",
    "        print(\"Divisible by 3\")\n",
    "    else:\n",
    "        print(\"Not Divisible by 3\")"
   ]
  },
  {
   "cell_type": "markdown",
   "id": "51d91466-d9b8-44a5-9d80-536e6120d388",
   "metadata": {},
   "source": [
    "7. (a) Immutable objects are the objects which cannot be modified or changed. Eg: \n",
    "str=\"sudha\"\n",
    "str[1]='u' will result in error\n",
    "\n",
    "(b)Mutable objects are the objects which can be modified or changed. Eg:\n",
    "l=[3,5,7,9,1]\n",
    "l[0]=4\n",
    "Existing List will be modified \n",
    "l=[4,5,7,9,1]"
   ]
  }
 ],
 "metadata": {
  "kernelspec": {
   "display_name": "Python 3 (ipykernel)",
   "language": "python",
   "name": "python3"
  },
  "language_info": {
   "codemirror_mode": {
    "name": "ipython",
    "version": 3
   },
   "file_extension": ".py",
   "mimetype": "text/x-python",
   "name": "python",
   "nbconvert_exporter": "python",
   "pygments_lexer": "ipython3",
   "version": "3.10.8"
  }
 },
 "nbformat": 4,
 "nbformat_minor": 5
}
