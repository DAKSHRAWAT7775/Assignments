{
 "cells": [
  {
   "cell_type": "markdown",
   "id": "47bcdb3c-b8db-4c8d-a1b2-f4b1f09926cc",
   "metadata": {},
   "source": [
    "1. API (Application Programming Interface) is a set of rules and protocols that allow different software applications to communicate with each other. It defines the methods and data structures that developers can use for interaction with other software application.\n",
    "                    For example, Google Maps API is used by different applications and websites to provide users with map functionality, directions and location services. Nowadays , food delivery app like Zomato might use Google Maps API to estimate delivery time and delivery route."
   ]
  },
  {
   "cell_type": "markdown",
   "id": "e152f0e4-4b9f-48cc-826a-a87a003679e2",
   "metadata": {},
   "source": [
    "2.(I) Advantages of an API are:\n",
    "(a) Efficiency: It allows developers to use existing functions and services instead of building them from scratch to save time and resources.\n",
    "(b) Scalability: It facilitates the creation of scalable systems by allowing components to interact over the network. \n",
    "(c) Flexibility: It offers flexibility by enabling developers to use a wide range of services and tools to enhance their applications.\n",
    "(II) Disadvantages of an API are:\n",
    "(a) Complexity: Integrating and maintaining APIs can be complex and require a deep understanding of the API's documentation and behaviour.\n",
    "(b) Security Risks: Exposing APIs can introduce security vulnerabilities if not properly secured, making systems susceptible to attacks."
   ]
  },
  {
   "cell_type": "markdown",
   "id": "55fb5cc8-f485-4bfd-85a2-e33d066cf4ff",
   "metadata": {},
   "source": [
    "3. Web API is a type of API that is accessed over the web using HTTP/HTTPS protocols. It allows communication between client applications and web services.\n",
    "                API is a set of protocols and tools for building software and applications which can include libraries, operating system interfaces, or web services while Web API is a subset of APIs specifically designed for web-based interactions using HTTP/HTTPS which typically involves sending requests to and receiving responses from web servers."
   ]
  },
  {
   "cell_type": "markdown",
   "id": "483ae681-2bc9-457a-9b34-c08eeabe337b",
   "metadata": {},
   "source": [
    "4.(a) REST (Representational State Transfer): REST is an architectural style for designing networked applications. It relies on stateless communication, typically over HTTP, and uses standard HTTP methods like GET, POST, PUT, and DELETE. RESTful services are designed around resources, which are identified by URLs, and can return various formats such as JSON, XML, or HTML.\n",
    "(b) SOAP (Simple Object Access Protocol): SOAP is a protocol for exchanging structured information in web services using XML. It relies on a set of rules for message structure and processing, and it supports a wide range of transport protocols like HTTP, SMTP, and more. SOAP is known for its strict standards and comprehensive error handling.\n",
    "\n",
    "(c)Shortcomings of SOAP:\n",
    "Complexity: SOAP messages and standards are complex, making them harder to implement and debug.\n",
    "Performance: SOAP's reliance on XML can lead to larger message sizes and slower processing times."
   ]
  },
  {
   "cell_type": "markdown",
   "id": "42a3275a-979a-436d-b6da-19e63ad96a40",
   "metadata": {},
   "source": [
    "5. Difference between REST and SOAP are:\n",
    "(a) REST uses HTTP/HTTPS protocol while SOAP can use multiple protocols (HTTP, SMTP).\n",
    "(b) REST is simpler and easier to implement\twhile SOAP is more complex due to strict standards.\n",
    "(c) REST relies on HTTPS for security while SOAP has built-in security features (WS-Security)."
   ]
  }
 ],
 "metadata": {
  "kernelspec": {
   "display_name": "Python 3 (ipykernel)",
   "language": "python",
   "name": "python3"
  },
  "language_info": {
   "codemirror_mode": {
    "name": "ipython",
    "version": 3
   },
   "file_extension": ".py",
   "mimetype": "text/x-python",
   "name": "python",
   "nbconvert_exporter": "python",
   "pygments_lexer": "ipython3",
   "version": "3.10.8"
  }
 },
 "nbformat": 4,
 "nbformat_minor": 5
}
