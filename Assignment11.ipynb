{
 "cells": [
  {
   "cell_type": "markdown",
   "id": "3bb7ab19-750b-4fce-84cb-6aa1d13f1a3e",
   "metadata": {},
   "source": [
    "1. Multiprocessing is a process of running multiple processes simultaneously within a single thread.\n",
    "                    It is useful because it improves the performance of a program by using m\n",
    "    ultiple CPUs or CPU cores."
   ]
  },
  {
   "cell_type": "markdown",
   "id": "8ebaabc9-68f8-495b-830c-dec8f880d0b8",
   "metadata": {},
   "source": [
    "2. Multiprocessing runs multiple processes simultaneously within a single thread while multihreading runs multiple threads simultaneously within in a single process"
   ]
  },
  {
   "cell_type": "code",
   "execution_count": 3,
   "id": "d0d03488-8eaa-41dd-9efe-6794c13ac3f5",
   "metadata": {},
   "outputs": [
    {
     "name": "stdout",
     "output_type": "stream",
     "text": [
      "Hi\n",
      "Hello\n"
     ]
    }
   ],
   "source": [
    "#3\n",
    "import multiprocessing\n",
    "def test():\n",
    "    print(\"Hello\")\n",
    "if __name__==\"__main__\":\n",
    "    m=multiprocessing.Process(target=test)\n",
    "    print(\"Hi\")\n",
    "    m.start()\n",
    "    m.join()"
   ]
  },
  {
   "cell_type": "markdown",
   "id": "862b020f-b08d-4124-9121-14edbd20f086",
   "metadata": {},
   "source": [
    "4. Multiprocessing pool is a set of processes that can be executed concurrently to perform a specific task.\n",
    "                        It is used to distribute the workload among multiple processes to speed up the execution time."
   ]
  },
  {
   "cell_type": "code",
   "execution_count": 5,
   "id": "9ab277e2-2f8e-49c7-83b9-3ff6fe1cacd2",
   "metadata": {},
   "outputs": [
    {
     "name": "stdout",
     "output_type": "stream",
     "text": [
      "[1, 4, 9, 16, 25]\n"
     ]
    }
   ],
   "source": [
    "#5\n",
    "import multiprocessing\n",
    "def square(n):\n",
    "    return n**2\n",
    "if __name__== \"__main__\":\n",
    "    with multiprocessing.Pool(processes=2) as pool:\n",
    "        m=pool.map(square,[1,2,3,4,5])\n",
    "        print(m)"
   ]
  },
  {
   "cell_type": "code",
   "execution_count": 21,
   "id": "5436a525-3b3d-400c-baaf-adc249b13f6f",
   "metadata": {},
   "outputs": [
    {
     "name": "stdout",
     "output_type": "stream",
     "text": [
      "Process 1: 1\n",
      "Process 2: 2\n",
      "Process 3: 3\n",
      "Process 4: 4\n",
      "All processes completed.\n"
     ]
    }
   ],
   "source": [
    "#6\n",
    "\n",
    "import multiprocessing\n",
    "\n",
    "def number(n):\n",
    "    print(f\"Process {n}: {n}\")\n",
    "\n",
    "if __name__ == \"__main__\":\n",
    "    processes = []\n",
    "\n",
    "    for i in range(1, 5):\n",
    "        process = multiprocessing.Process(target=number, args=(i,))\n",
    "        processes.append(process)\n",
    "\n",
    "    for process in processes:\n",
    "        process.start()\n",
    "\n",
    "    for process in processes:\n",
    "        process.join()\n",
    "\n",
    "    print(\"All processes completed.\")\n"
   ]
  },
  {
   "cell_type": "code",
   "execution_count": null,
   "id": "4f9acf7c-872f-4158-bb09-0f3d376bccd6",
   "metadata": {},
   "outputs": [],
   "source": []
  }
 ],
 "metadata": {
  "kernelspec": {
   "display_name": "Python 3 (ipykernel)",
   "language": "python",
   "name": "python3"
  },
  "language_info": {
   "codemirror_mode": {
    "name": "ipython",
    "version": 3
   },
   "file_extension": ".py",
   "mimetype": "text/x-python",
   "name": "python",
   "nbconvert_exporter": "python",
   "pygments_lexer": "ipython3",
   "version": "3.10.8"
  }
 },
 "nbformat": 4,
 "nbformat_minor": 5
}
