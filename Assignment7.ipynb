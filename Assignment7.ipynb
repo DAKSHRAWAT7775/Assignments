{
 "cells": [
  {
   "cell_type": "code",
   "execution_count": null,
   "id": "ef0d2769-5094-4a7f-8472-f1b02ba60c7b",
   "metadata": {},
   "outputs": [],
   "source": [
    "#1.\n",
    "class vehicle:\n",
    "    def __init__(self,name_of_vehicle,max_speed,average_of_vehicle):\n",
    "        self.name_of_vehicle=name_of_vehicle\n",
    "        self.max_speed=max_speed\n",
    "        self.average_of_vehicle=average_of_vehicle\n",
    "    "
   ]
  },
  {
   "cell_type": "code",
   "execution_count": 11,
   "id": "49095513-2d64-4718-9773-b6bf5d4265f1",
   "metadata": {},
   "outputs": [
    {
     "name": "stdout",
     "output_type": "stream",
     "text": [
      "('maruti', 5)\n"
     ]
    }
   ],
   "source": [
    "#2.\n",
    "class vehicle:\n",
    "    def __init__(self,name_of_vehicle,max_speed,average_of_vehicle):\n",
    "        self.name_of_vehicle=name_of_vehicle\n",
    "        self.max_speed=max_speed\n",
    "        self.average_of_vehicle=average_of_vehicle\n",
    "class car(vehicle):\n",
    "    def seating_capacity(self,sc):\n",
    "        self.sc=sc\n",
    "        return self.name_of_vehicle,self.sc\n",
    "c=car(\"maruti\",89,15)\n",
    "print(c.seating_capacity(5))"
   ]
  },
  {
   "cell_type": "code",
   "execution_count": 3,
   "id": "f841479b-8f06-444b-9747-888b716938c8",
   "metadata": {},
   "outputs": [
    {
     "name": "stdout",
     "output_type": "stream",
     "text": [
      "Father\n",
      "Mother\n",
      "Child\n"
     ]
    }
   ],
   "source": [
    "#3. Multiple Inheritance is the concept in OOPs where a class inherit methods and attributes from multiple parent classes. Eg:\n",
    "class Father:\n",
    "    def f(self):\n",
    "        print(\"Father\")\n",
    "class Mother:\n",
    "    def m(self):\n",
    "        print(\"Mother\")\n",
    "class Child(Father,Mother):\n",
    "    def c(self):\n",
    "        print(\"Child\")\n",
    "ch=Child()\n",
    "ch.f()\n",
    "ch.m()\n",
    "ch.c()"
   ]
  },
  {
   "cell_type": "code",
   "execution_count": 17,
   "id": "b32d383b-6b5e-4aad-9e96-b7439e387bce",
   "metadata": {},
   "outputs": [
    {
     "name": "stdout",
     "output_type": "stream",
     "text": [
      "rohan\n",
      "iuy\n"
     ]
    }
   ],
   "source": [
    "'''4. Getter and Setter methods are used to control access to class attributes. Getter methods allows retrieving the value of \n",
    "attribute while setter methods allow modifying the value of an attribute. Eg:'''\n",
    "class Login:\n",
    "    def __init__(self,uname,password):\n",
    "        self.__uname=uname\n",
    "        self.__password=password\n",
    "    def get(self):\n",
    "        return self.__uname\n",
    "    def set(self,password):\n",
    "        self.__password=password\n",
    "        return self.__password\n",
    "l=Login(\"rohan\",\"yui\")\n",
    "print(l.get())\n",
    "print(l.set(\"iuy\"))"
   ]
  },
  {
   "cell_type": "code",
   "execution_count": 13,
   "id": "7a22397b-6f62-411d-ab88-bd2e0144836f",
   "metadata": {},
   "outputs": [
    {
     "name": "stdout",
     "output_type": "stream",
     "text": [
      "Parent\n",
      "Child\n"
     ]
    }
   ],
   "source": [
    "'''5. Method overriding is a feature in OOPs where derived class provides its own implementation of a method that \n",
    "is already defined in its parent class. Eg:'''\n",
    "class Parent:\n",
    "    def talk(self):\n",
    "        print(\"Parent\")\n",
    "class Child(Parent):\n",
    "    def talk(self):\n",
    "        print(\"Child\")\n",
    "p=Parent()\n",
    "c=Child()\n",
    "p.talk()\n",
    "c.talk()"
   ]
  }
 ],
 "metadata": {
  "kernelspec": {
   "display_name": "Python 3 (ipykernel)",
   "language": "python",
   "name": "python3"
  },
  "language_info": {
   "codemirror_mode": {
    "name": "ipython",
    "version": 3
   },
   "file_extension": ".py",
   "mimetype": "text/x-python",
   "name": "python",
   "nbconvert_exporter": "python",
   "pygments_lexer": "ipython3",
   "version": "3.10.8"
  }
 },
 "nbformat": 4,
 "nbformat_minor": 5
}
